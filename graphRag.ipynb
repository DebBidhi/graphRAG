{
 "cells": [
  {
   "cell_type": "code",
   "execution_count": null,
   "metadata": {},
   "outputs": [],
   "source": [
    "%pip install llama-index\n",
    "%pip install llama-index-core \n",
    "%pip install neo4j\n",
    "%pip install llama-index-graph-stores-neo4j\n",
    "%pip install llama_index.embeddings.huggingface\n",
    "%pip install einops"
   ]
  },
  {
   "cell_type": "markdown",
   "metadata": {},
   "source": [
    "windows cmd prompt\n",
    "``` \n",
    "docker run -p 7474:7474 -p 7687:7687 -v %CD%\\data:/data -v %CD%\\plugins:/plugins --name neo4j-apoc -e NEO4J_apoc_export_file_enabled=true -e NEO4J_apoc_import_file_enabled=true -e NEO4J_apoc_import_file_use__neo4j__config=true -e NEO4JLABS_PLUGINS=[\"apoc\"] neo4j:latest\n",
    "\n",
    "or \n",
    "\n",
    "pull from docker desktop hub :--> Neo4j\n",
    "\n",
    "```\n",
    "\n",
    "\n",
    "```\n",
    "\n",
    "username - neo4j , password - neo4j\n",
    "now chnaged to = rodeo-vertigo-golf-george-waiter-7518\n",
    "```"
   ]
  },
  {
   "cell_type": "code",
   "execution_count": 2,
   "metadata": {},
   "outputs": [
    {
     "name": "stderr",
     "output_type": "stream",
     "text": [
      "e:\\Miniconda3\\envs\\rag05\\Lib\\site-packages\\tqdm\\auto.py:21: TqdmWarning: IProgress not found. Please update jupyter and ipywidgets. See https://ipywidgets.readthedocs.io/en/stable/user_install.html\n",
      "  from .autonotebook import tqdm as notebook_tqdm\n",
      "!!!!!!!!!!!!megablocks not available, using torch.matmul instead\n",
      "<All keys matched successfully>\n"
     ]
    }
   ],
   "source": [
    "#import statment does not matter but needed the pip for >> import einops\n",
    "from llama_index.embeddings.huggingface import HuggingFaceEmbedding\n",
    "\n",
    "embed_model = HuggingFaceEmbedding(model_name=\"nomic-ai/nomic-embed-text-v1.5\",\n",
    "                                    trust_remote_code=True,\n",
    "                                    cache_folder='./hf_cache')\n"
   ]
  },
  {
   "cell_type": "code",
   "execution_count": 3,
   "metadata": {},
   "outputs": [],
   "source": [
    "from llama_index.llms.ollama import Ollama\n",
    "\n",
    "llm = Ollama(model=\"llama3.2:1b\")"
   ]
  },
  {
   "cell_type": "code",
   "execution_count": 9,
   "metadata": {},
   "outputs": [
    {
     "name": "stdout",
     "output_type": "stream",
     "text": [
      "Neo4j is connected!\n"
     ]
    }
   ],
   "source": [
    "from neo4j import GraphDatabase\n",
    "\n",
    "uri = \"neo4j://localhost:7687\"\n",
    "\n",
    "username = \"neo4j\"\n",
    "\n",
    "password = \"mixer-filter-guide-sting-cuba-3794\"\n",
    "\n",
    "driver = GraphDatabase.driver(uri, auth=(username, password))\n",
    "\n",
    "try:\n",
    "\n",
    "    with driver.session() as session:\n",
    "\n",
    "        result = session.run(\"RETURN 'Neo4j is connected!'\")\n",
    "\n",
    "        print(result.single()[0])\n",
    "\n",
    "except Exception as e:\n",
    "\n",
    "    print(f\"Neo4j Connection Failed: {e}\")"
   ]
  },
  {
   "cell_type": "code",
   "execution_count": 11,
   "metadata": {},
   "outputs": [],
   "source": [
    "from llama_index.llms.ollama import Ollama\n",
    "\n",
    "llm = Ollama(model=\"llama3.2:1b\")"
   ]
  },
  {
   "cell_type": "code",
   "execution_count": 12,
   "metadata": {},
   "outputs": [],
   "source": [
    "from llama_index.core import SimpleDirectoryReader\n",
    "\n",
    "loader = SimpleDirectoryReader(\"./dataF/\")\n",
    "\n",
    "documents = loader.load_data()"
   ]
  },
  {
   "cell_type": "code",
   "execution_count": 22,
   "metadata": {},
   "outputs": [
    {
     "data": {
      "text/markdown": [
       "What I Worked On\n",
       "\n",
       "February 2021\n",
       "\n",
       "Before college the two main things I worked on, outside o"
      ],
      "text/plain": [
       "<IPython.core.display.Markdown object>"
      ]
     },
     "metadata": {},
     "output_type": "display_data"
    }
   ],
   "source": [
    "from IPython.display import Markdown\n",
    "display(Markdown(documents[0].text[:90]))"
   ]
  },
  {
   "cell_type": "code",
   "execution_count": 24,
   "metadata": {},
   "outputs": [],
   "source": [
    "from llama_index.core import PropertyGraphIndex\n",
    "from llama_index.core.indices.property_graph import SimpleLLMPathExtractor"
   ]
  },
  {
   "cell_type": "code",
   "execution_count": 25,
   "metadata": {},
   "outputs": [
    {
     "ename": "NameError",
     "evalue": "name 'graph_store' is not defined",
     "output_type": "error",
     "traceback": [
      "\u001b[31m---------------------------------------------------------------------------\u001b[39m",
      "\u001b[31mNameError\u001b[39m                                 Traceback (most recent call last)",
      "\u001b[36mCell\u001b[39m\u001b[36m \u001b[39m\u001b[32mIn[25]\u001b[39m\u001b[32m, line 6\u001b[39m\n\u001b[32m      1\u001b[39m data_extractor = SimpleLLMPathExtractor(llm=llm)\n\u001b[32m      3\u001b[39m index = PropertyGraphIndex.from_documents(documents,\n\u001b[32m      4\u001b[39m                                           embed_model=embed_model,\n\u001b[32m      5\u001b[39m                                           kg_extractors=[data_extractor],\n\u001b[32m----> \u001b[39m\u001b[32m6\u001b[39m                                           property_graph_store=\u001b[43mgraph_store\u001b[49m,\n\u001b[32m      7\u001b[39m                                           show_progress=\u001b[38;5;28;01mTrue\u001b[39;00m,\n\u001b[32m      8\u001b[39m                                           )\n",
      "\u001b[31mNameError\u001b[39m: name 'graph_store' is not defined"
     ]
    }
   ],
   "source": [
    "data_extractor = SimpleLLMPathExtractor(llm=llm)\n",
    "\n",
    "index = PropertyGraphIndex.from_documents(documents,\n",
    "                                          embed_model=embed_model,\n",
    "                                          kg_extractors=[data_extractor],\n",
    "                                          property_graph_store=graph_store,\n",
    "                                          show_progress=True,\n",
    "                                          )"
   ]
  },
  {
   "cell_type": "code",
   "execution_count": null,
   "metadata": {},
   "outputs": [],
   "source": []
  }
 ],
 "metadata": {
  "kernelspec": {
   "display_name": "rag05",
   "language": "python",
   "name": "python3"
  },
  "language_info": {
   "codemirror_mode": {
    "name": "ipython",
    "version": 3
   },
   "file_extension": ".py",
   "mimetype": "text/x-python",
   "name": "python",
   "nbconvert_exporter": "python",
   "pygments_lexer": "ipython3",
   "version": "3.11.11"
  }
 },
 "nbformat": 4,
 "nbformat_minor": 2
}
